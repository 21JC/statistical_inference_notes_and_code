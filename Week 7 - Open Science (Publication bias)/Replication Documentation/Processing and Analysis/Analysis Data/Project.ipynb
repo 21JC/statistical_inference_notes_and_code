{
 "cells": [
  {
   "cell_type": "markdown",
   "id": "2a5cf68e",
   "metadata": {},
   "source": [
    "# Data collection"
   ]
  },
  {
   "cell_type": "code",
   "execution_count": 13,
   "id": "05a4a042",
   "metadata": {},
   "outputs": [],
   "source": [
    "# latest 34 movie ratings starred by the two\n",
    "r1 = [9.1, 7.1, 8.1, 8.0, 5.4, 6.3, 9.0, 6.0, 6.7, 5.9, 8.3, 5.0, 8.3, 8.0, 8.2, 6.9, 5.9, 5.7, 5.2, 6.7, 5.9, 7.4, 5.4, 5.4, 8.4, 5.3, 5.8, 8.8, 7.6, 7.0, 6.0, 9.2, 8.2, 6.6]\n",
    "r2 = [7.0, 8.1, 7.8, 6.7, 8.0, 8.8, 8.1, 7.6, 6.9, 8.1, 6.4, 7.9, 8.2, 6.3, 8.0, 8.0, 7.2, 7.9, 7.2, 7.7, 7.8, 6.6, 8.3, 7.7, 7.8, 7.2, 7.4, 7.4, 7.6, 8.9, 7.4, 7.9, 6.7, 7.6]\n"
   ]
  },
  {
   "cell_type": "markdown",
   "id": "be6d1b06",
   "metadata": {},
   "source": [
    "# Data analysis"
   ]
  },
  {
   "cell_type": "code",
   "execution_count": 14,
   "id": "225ae0d6",
   "metadata": {},
   "outputs": [],
   "source": [
    "from scipy.stats import ttest_ind"
   ]
  },
  {
   "cell_type": "code",
   "execution_count": 15,
   "id": "d8257460",
   "metadata": {},
   "outputs": [],
   "source": [
    "t,p_value = ttest_ind(r1,r2)"
   ]
  },
  {
   "cell_type": "code",
   "execution_count": 16,
   "id": "d3ce65dd",
   "metadata": {},
   "outputs": [
    {
     "data": {
      "text/plain": [
       "0.013280151998056527"
      ]
     },
     "execution_count": 16,
     "metadata": {},
     "output_type": "execute_result"
    }
   ],
   "source": [
    "p_value"
   ]
  },
  {
   "cell_type": "code",
   "execution_count": 30,
   "id": "73eaa512",
   "metadata": {},
   "outputs": [
    {
     "data": {
      "text/plain": [
       "0.597842335083086"
      ]
     },
     "execution_count": 30,
     "metadata": {},
     "output_type": "execute_result"
    }
   ],
   "source": [
    "import numpy as np\n",
    "abs(np.mean(r1) - np.mean(r2))/np.array(r1+r2).std()\n",
    "# Medium effect"
   ]
  },
  {
   "cell_type": "code",
   "execution_count": 31,
   "id": "27d7bdab",
   "metadata": {},
   "outputs": [
    {
     "data": {
      "text/plain": [
       "6.96470588235294"
      ]
     },
     "execution_count": 31,
     "metadata": {},
     "output_type": "execute_result"
    }
   ],
   "source": [
    "np.mean(r1)"
   ]
  },
  {
   "cell_type": "code",
   "execution_count": 32,
   "id": "b79d2168",
   "metadata": {},
   "outputs": [
    {
     "data": {
      "text/plain": [
       "7.594117647058825"
      ]
     },
     "execution_count": 32,
     "metadata": {},
     "output_type": "execute_result"
    }
   ],
   "source": [
    "np.mean(r2)"
   ]
  },
  {
   "cell_type": "markdown",
   "id": "583031fa",
   "metadata": {},
   "source": [
    "# Conclusion\n",
    "\n",
    "\n",
    "## The result is significant, we reject the null hypothesis that the movies starred by these two are equally great based on IMDB ratings (With P-value of 0.01). The Cohen's d is 0.6, indicating medium-large difference. Turned out Bob Odenkirk is likely better."
   ]
  }
 ],
 "metadata": {
  "kernelspec": {
   "display_name": "Python 3 (ipykernel)",
   "language": "python",
   "name": "python3"
  },
  "language_info": {
   "codemirror_mode": {
    "name": "ipython",
    "version": 3
   },
   "file_extension": ".py",
   "mimetype": "text/x-python",
   "name": "python",
   "nbconvert_exporter": "python",
   "pygments_lexer": "ipython3",
   "version": "3.9.13"
  }
 },
 "nbformat": 4,
 "nbformat_minor": 5
}
