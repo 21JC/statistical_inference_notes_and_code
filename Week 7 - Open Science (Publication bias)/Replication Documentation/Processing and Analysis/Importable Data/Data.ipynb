{
 "cells": [
  {
   "cell_type": "code",
   "execution_count": 1,
   "id": "f3857cbd",
   "metadata": {},
   "outputs": [],
   "source": [
    "# latest 34 movie ratings starred by Bob Odenkirk\n",
    "r1 = [9.1, 7.1, 8.1, 8.0, 5.4, 6.3, 9.0, 6.0, 6.7, 5.9, 8.3, 5.0, 8.3, 8.0, 8.2, 6.9, 5.9, 5.7, 5.2, 6.7, 5.9, 7.4, 5.4, 5.4, 8.4, 5.3, 5.8, 8.8, 7.6, 7.0, 6.0, 9.2, 8.2, 6.6]\n",
    "r2 = [7.0, 8.1, 7.8, 6.7, 8.0, 8.8, 8.1, 7.6, 6.9, 8.1, 6.4, 7.9, 8.2, 6.3, 8.0, 8.0, 7.2, 7.9, 7.2, 7.7, 7.8, 6.6, 8.3, 7.7, 7.8, 7.2, 7.4, 7.4, 7.6, 8.9, 7.4, 7.9, 6.7, 7.6]\n"
   ]
  },
  {
   "cell_type": "code",
   "execution_count": null,
   "id": "69872b58",
   "metadata": {},
   "outputs": [],
   "source": []
  }
 ],
 "metadata": {
  "kernelspec": {
   "display_name": "Python 3 (ipykernel)",
   "language": "python",
   "name": "python3"
  },
  "language_info": {
   "codemirror_mode": {
    "name": "ipython",
    "version": 3
   },
   "file_extension": ".py",
   "mimetype": "text/x-python",
   "name": "python",
   "nbconvert_exporter": "python",
   "pygments_lexer": "ipython3",
   "version": "3.9.13"
  }
 },
 "nbformat": 4,
 "nbformat_minor": 5
}
